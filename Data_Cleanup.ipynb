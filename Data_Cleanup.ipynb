{
 "cells": [
  {
   "cell_type": "code",
   "execution_count": 21,
   "metadata": {},
   "outputs": [],
   "source": [
    "import pandas as pd\n",
    "from pandas import json_normalize\n",
    "import requests\n",
    "import json\n",
    "import os\n",
    "import csv\n",
    "from pprint import pprint"
   ]
  },
  {
   "cell_type": "code",
   "execution_count": 12,
   "metadata": {},
   "outputs": [],
   "source": [
    "#listing API urls to use in data pulls\n",
    "base_url = 'https://public.opendatasoft.com/api/records/1.0/'\n",
    "records_url_listings = 'search/?dataset=airbnb-listings'\n",
    "download_url_listings = 'download/?dataset=airbnb-listings'\n",
    "records_url_reviews = 'search/?dataset=airbnb-reviews'\n",
    "download_url_reviews = 'download/?dataset=airbnb-reviews'"
   ]
  },
  {
   "cell_type": "code",
   "execution_count": 13,
   "metadata": {},
   "outputs": [
    {
     "data": {
      "text/html": [
       "<div>\n",
       "<style scoped>\n",
       "    .dataframe tbody tr th:only-of-type {\n",
       "        vertical-align: middle;\n",
       "    }\n",
       "\n",
       "    .dataframe tbody tr th {\n",
       "        vertical-align: top;\n",
       "    }\n",
       "\n",
       "    .dataframe thead th {\n",
       "        text-align: right;\n",
       "    }\n",
       "</style>\n",
       "<table border=\"1\" class=\"dataframe\">\n",
       "  <thead>\n",
       "    <tr style=\"text-align: right;\">\n",
       "      <th></th>\n",
       "      <th>rank</th>\n",
       "      <th>City</th>\n",
       "      <th>Country</th>\n",
       "      <th>population_2019</th>\n",
       "    </tr>\n",
       "  </thead>\n",
       "  <tbody>\n",
       "    <tr>\n",
       "      <th>0</th>\n",
       "      <td>1</td>\n",
       "      <td>Tokyo</td>\n",
       "      <td>Japan</td>\n",
       "      <td>37435192</td>\n",
       "    </tr>\n",
       "    <tr>\n",
       "      <th>1</th>\n",
       "      <td>2</td>\n",
       "      <td>Delhi</td>\n",
       "      <td>India</td>\n",
       "      <td>29399140</td>\n",
       "    </tr>\n",
       "    <tr>\n",
       "      <th>2</th>\n",
       "      <td>3</td>\n",
       "      <td>Shanghai</td>\n",
       "      <td>China</td>\n",
       "      <td>26317104</td>\n",
       "    </tr>\n",
       "    <tr>\n",
       "      <th>3</th>\n",
       "      <td>4</td>\n",
       "      <td>Sao Paulo</td>\n",
       "      <td>Brazil</td>\n",
       "      <td>21846508</td>\n",
       "    </tr>\n",
       "    <tr>\n",
       "      <th>4</th>\n",
       "      <td>5</td>\n",
       "      <td>Mexico City</td>\n",
       "      <td>Mexico</td>\n",
       "      <td>21671908</td>\n",
       "    </tr>\n",
       "  </tbody>\n",
       "</table>\n",
       "</div>"
      ],
      "text/plain": [
       "   rank         City Country  population_2019\n",
       "0     1        Tokyo   Japan         37435192\n",
       "1     2        Delhi   India         29399140\n",
       "2     3     Shanghai   China         26317104\n",
       "3     4    Sao Paulo  Brazil         21846508\n",
       "4     5  Mexico City  Mexico         21671908"
      ]
     },
     "execution_count": 13,
     "metadata": {},
     "output_type": "execute_result"
    }
   ],
   "source": [
    "city_pop_file = 'Resources/city_populations.csv'\n",
    "city_pop_df = pd.read_csv(city_pop_file)\n",
    "city_pop_df.head()"
   ]
  },
  {
   "cell_type": "code",
   "execution_count": 14,
   "metadata": {},
   "outputs": [
    {
     "data": {
      "text/plain": [
       "0            Tokyo\n",
       "1            Delhi\n",
       "2         Shanghai\n",
       "3        Sao Paulo\n",
       "4      Mexico City\n",
       "          ...     \n",
       "95           Kabul\n",
       "96           Hefei\n",
       "97        Tel Aviv\n",
       "98          Recife\n",
       "99    Shijiazhuang\n",
       "Name: City, Length: 100, dtype: object"
      ]
     },
     "execution_count": 14,
     "metadata": {},
     "output_type": "execute_result"
    }
   ],
   "source": [
    "city_list = city_pop_df['City'].head(100)\n",
    "city_list"
   ]
  },
  {
   "cell_type": "code",
   "execution_count": 20,
   "metadata": {},
   "outputs": [
    {
     "data": {
      "text/plain": [
       "{'city': 'Austin',\n",
       " 'bathrooms': 1.0,\n",
       " 'name': 'Historic 2BD in Travis Heights',\n",
       " 'minimum_nights': 1,\n",
       " 'country': 'United States',\n",
       " 'price': 800,\n",
       " 'bedrooms': 2,\n",
       " 'accommodates': 4,\n",
       " 'beds': 2,\n",
       " 'number_of_reviews': 0,\n",
       " 'street': 'Alameda Drive, Austin, TX 78704, United States',\n",
       " 'host_name': 'Charles',\n",
       " 'maximum_nights': 1125,\n",
       " 'listing_url': 'https://www.airbnb.com/rooms/10546343',\n",
       " 'property_type': 'House'}"
      ]
     },
     "execution_count": 20,
     "metadata": {},
     "output_type": "execute_result"
    }
   ],
   "source": [
    "city='Austin'\n",
    "get_url = base_url+records_url_listings+f'&facet=city&refine.city={city}&rows=2&fields=country,city,name,host_name,street,property_type,accommodates,bedrooms,bathrooms,beds,price,weekly_price,monthly_price,security_deposit,cleaning_fee,minimum_nights,maximum_nights,number_of_reviews,review_scores_rating,listing_url'\n",
    "response = requests.get(get_url).json()\n",
    "response['records'][1]['fields']"
   ]
  },
  {
   "cell_type": "code",
   "execution_count": 27,
   "metadata": {},
   "outputs": [
    {
     "data": {
      "text/html": [
       "<div>\n",
       "<style scoped>\n",
       "    .dataframe tbody tr th:only-of-type {\n",
       "        vertical-align: middle;\n",
       "    }\n",
       "\n",
       "    .dataframe tbody tr th {\n",
       "        vertical-align: top;\n",
       "    }\n",
       "\n",
       "    .dataframe thead th {\n",
       "        text-align: right;\n",
       "    }\n",
       "</style>\n",
       "<table border=\"1\" class=\"dataframe\">\n",
       "  <thead>\n",
       "    <tr style=\"text-align: right;\">\n",
       "      <th></th>\n",
       "    </tr>\n",
       "  </thead>\n",
       "  <tbody>\n",
       "  </tbody>\n",
       "</table>\n",
       "</div>"
      ],
      "text/plain": [
       "Empty DataFrame\n",
       "Columns: []\n",
       "Index: []"
      ]
     },
     "execution_count": 27,
     "metadata": {},
     "output_type": "execute_result"
    }
   ],
   "source": [
    "listing_df = pd.DataFrame()"
   ]
  },
  {
   "cell_type": "code",
   "execution_count": 42,
   "metadata": {},
   "outputs": [],
   "source": [
    "thing = json_normalize(response['records'][0]['fields'])"
   ]
  },
  {
   "cell_type": "code",
   "execution_count": 43,
   "metadata": {},
   "outputs": [
    {
     "data": {
      "text/html": [
       "<div>\n",
       "<style scoped>\n",
       "    .dataframe tbody tr th:only-of-type {\n",
       "        vertical-align: middle;\n",
       "    }\n",
       "\n",
       "    .dataframe tbody tr th {\n",
       "        vertical-align: top;\n",
       "    }\n",
       "\n",
       "    .dataframe thead th {\n",
       "        text-align: right;\n",
       "    }\n",
       "</style>\n",
       "<table border=\"1\" class=\"dataframe\">\n",
       "  <thead>\n",
       "    <tr style=\"text-align: right;\">\n",
       "      <th></th>\n",
       "      <th>monthly_price</th>\n",
       "      <th>city</th>\n",
       "      <th>bathrooms</th>\n",
       "      <th>name</th>\n",
       "      <th>minimum_nights</th>\n",
       "      <th>country</th>\n",
       "      <th>price</th>\n",
       "      <th>bedrooms</th>\n",
       "      <th>accommodates</th>\n",
       "      <th>beds</th>\n",
       "      <th>number_of_reviews</th>\n",
       "      <th>street</th>\n",
       "      <th>cleaning_fee</th>\n",
       "      <th>host_name</th>\n",
       "      <th>maximum_nights</th>\n",
       "      <th>listing_url</th>\n",
       "      <th>review_scores_rating</th>\n",
       "      <th>property_type</th>\n",
       "      <th>security_deposit</th>\n",
       "    </tr>\n",
       "  </thead>\n",
       "  <tbody>\n",
       "    <tr>\n",
       "      <th>0</th>\n",
       "      <td>7000</td>\n",
       "      <td>Austin</td>\n",
       "      <td>1.0</td>\n",
       "      <td>Charming, Authentically Austin</td>\n",
       "      <td>1</td>\n",
       "      <td>United States</td>\n",
       "      <td>259</td>\n",
       "      <td>2</td>\n",
       "      <td>6</td>\n",
       "      <td>2</td>\n",
       "      <td>16</td>\n",
       "      <td>Dawson Road, Austin, TX 78704, United States</td>\n",
       "      <td>25</td>\n",
       "      <td>Park Terrace</td>\n",
       "      <td>30</td>\n",
       "      <td>https://www.airbnb.com/rooms/4994857</td>\n",
       "      <td>89</td>\n",
       "      <td>Apartment</td>\n",
       "      <td>100</td>\n",
       "    </tr>\n",
       "  </tbody>\n",
       "</table>\n",
       "</div>"
      ],
      "text/plain": [
       "   monthly_price    city  bathrooms                            name  \\\n",
       "0           7000  Austin        1.0  Charming, Authentically Austin   \n",
       "\n",
       "   minimum_nights        country  price  bedrooms  accommodates  beds  \\\n",
       "0               1  United States    259         2             6     2   \n",
       "\n",
       "   number_of_reviews                                        street  \\\n",
       "0                 16  Dawson Road, Austin, TX 78704, United States   \n",
       "\n",
       "   cleaning_fee     host_name  maximum_nights  \\\n",
       "0            25  Park Terrace              30   \n",
       "\n",
       "                            listing_url  review_scores_rating property_type  \\\n",
       "0  https://www.airbnb.com/rooms/4994857                    89     Apartment   \n",
       "\n",
       "   security_deposit  \n",
       "0               100  "
      ]
     },
     "execution_count": 43,
     "metadata": {},
     "output_type": "execute_result"
    }
   ],
   "source": [
    "listing_df.append(thing)"
   ]
  },
  {
   "cell_type": "code",
   "execution_count": 40,
   "metadata": {},
   "outputs": [
    {
     "data": {
      "text/html": [
       "<div>\n",
       "<style scoped>\n",
       "    .dataframe tbody tr th:only-of-type {\n",
       "        vertical-align: middle;\n",
       "    }\n",
       "\n",
       "    .dataframe tbody tr th {\n",
       "        vertical-align: top;\n",
       "    }\n",
       "\n",
       "    .dataframe thead th {\n",
       "        text-align: right;\n",
       "    }\n",
       "</style>\n",
       "<table border=\"1\" class=\"dataframe\">\n",
       "  <thead>\n",
       "    <tr style=\"text-align: right;\">\n",
       "      <th></th>\n",
       "    </tr>\n",
       "  </thead>\n",
       "  <tbody>\n",
       "  </tbody>\n",
       "</table>\n",
       "</div>"
      ],
      "text/plain": [
       "Empty DataFrame\n",
       "Columns: []\n",
       "Index: []"
      ]
     },
     "execution_count": 40,
     "metadata": {},
     "output_type": "execute_result"
    }
   ],
   "source": [
    "listing_df"
   ]
  },
  {
   "cell_type": "code",
   "execution_count": null,
   "metadata": {},
   "outputs": [],
   "source": []
  }
 ],
 "metadata": {
  "kernelspec": {
   "display_name": "Python 3",
   "language": "python",
   "name": "python3"
  },
  "language_info": {
   "codemirror_mode": {
    "name": "ipython",
    "version": 3
   },
   "file_extension": ".py",
   "mimetype": "text/x-python",
   "name": "python",
   "nbconvert_exporter": "python",
   "pygments_lexer": "ipython3",
   "version": "3.6.10"
  }
 },
 "nbformat": 4,
 "nbformat_minor": 4
}
